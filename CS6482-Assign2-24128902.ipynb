{
 "cells": [
  {
   "cell_type": "markdown",
   "id": "65e5377b",
   "metadata": {},
   "source": [
    "Thendral | Student ID: 24128902\n",
    "\n",
    "The code executes end-to-end without errors.\n",
    "\n",
    "Source: Adapted from OpenAI Gym examples, PyTorch DQN tutorial, and RL book (Sutton & Barto)\n"
   ]
  },
  {
   "cell_type": "code",
   "execution_count": 6,
   "id": "1ff0b7c4",
   "metadata": {},
   "outputs": [
    {
     "name": "stdout",
     "output_type": "stream",
     "text": [
      "Collecting gymnasium[accept-rom-license,atari]\n",
      "  Downloading gymnasium-1.1.1-py3-none-any.whl.metadata (9.4 kB)\n",
      "Collecting numpy>=1.21.0 (from gymnasium[accept-rom-license,atari])\n",
      "  Downloading numpy-2.2.4-cp313-cp313-win_amd64.whl.metadata (60 kB)\n",
      "Collecting cloudpickle>=1.2.0 (from gymnasium[accept-rom-license,atari])\n",
      "  Downloading cloudpickle-3.1.1-py3-none-any.whl.metadata (7.1 kB)\n",
      "Collecting typing-extensions>=4.3.0 (from gymnasium[accept-rom-license,atari])\n",
      "  Downloading typing_extensions-4.13.2-py3-none-any.whl.metadata (3.0 kB)\n",
      "Collecting farama-notifications>=0.0.1 (from gymnasium[accept-rom-license,atari])\n",
      "  Downloading Farama_Notifications-0.0.4-py3-none-any.whl.metadata (558 bytes)\n",
      "Collecting ale_py>=0.9 (from gymnasium[accept-rom-license,atari])\n",
      "  Downloading ale_py-0.10.2-cp313-cp313-win_amd64.whl.metadata (8.4 kB)\n",
      "Downloading ale_py-0.10.2-cp313-cp313-win_amd64.whl (1.5 MB)\n",
      "   ---------------------------------------- 0.0/1.5 MB ? eta -:--:--\n",
      "   ------- -------------------------------- 0.3/1.5 MB ? eta -:--:--\n",
      "   ---------------------------- ----------- 1.0/1.5 MB 2.8 MB/s eta 0:00:01\n",
      "   ---------------------------------------- 1.5/1.5 MB 2.7 MB/s eta 0:00:00\n",
      "Downloading cloudpickle-3.1.1-py3-none-any.whl (20 kB)\n",
      "Downloading Farama_Notifications-0.0.4-py3-none-any.whl (2.5 kB)\n",
      "Downloading numpy-2.2.4-cp313-cp313-win_amd64.whl (12.6 MB)\n",
      "   ---------------------------------------- 0.0/12.6 MB ? eta -:--:--\n",
      "   -- ------------------------------------- 0.8/12.6 MB 5.2 MB/s eta 0:00:03\n",
      "   ---- ----------------------------------- 1.6/12.6 MB 3.8 MB/s eta 0:00:03\n",
      "   ------- -------------------------------- 2.4/12.6 MB 4.0 MB/s eta 0:00:03\n",
      "   ---------- ----------------------------- 3.4/12.6 MB 4.2 MB/s eta 0:00:03\n",
      "   ------------- -------------------------- 4.2/12.6 MB 4.1 MB/s eta 0:00:03\n",
      "   -------------- ------------------------- 4.7/12.6 MB 4.0 MB/s eta 0:00:02\n",
      "   ----------------- ---------------------- 5.5/12.6 MB 3.9 MB/s eta 0:00:02\n",
      "   ------------------- -------------------- 6.0/12.6 MB 3.8 MB/s eta 0:00:02\n",
      "   -------------------- ------------------- 6.6/12.6 MB 3.6 MB/s eta 0:00:02\n",
      "   ---------------------- ----------------- 7.1/12.6 MB 3.5 MB/s eta 0:00:02\n",
      "   ------------------------ --------------- 7.9/12.6 MB 3.5 MB/s eta 0:00:02\n",
      "   --------------------------- ------------ 8.7/12.6 MB 3.5 MB/s eta 0:00:02\n",
      "   ------------------------------ --------- 9.7/12.6 MB 3.6 MB/s eta 0:00:01\n",
      "   --------------------------------- ------ 10.5/12.6 MB 3.7 MB/s eta 0:00:01\n",
      "   ------------------------------------ --- 11.5/12.6 MB 3.7 MB/s eta 0:00:01\n",
      "   -------------------------------------- - 12.3/12.6 MB 3.7 MB/s eta 0:00:01\n",
      "   ---------------------------------------- 12.6/12.6 MB 3.7 MB/s eta 0:00:00\n",
      "Downloading typing_extensions-4.13.2-py3-none-any.whl (45 kB)\n",
      "Downloading gymnasium-1.1.1-py3-none-any.whl (965 kB)\n",
      "   ---------------------------------------- 0.0/965.4 kB ? eta -:--:--\n",
      "   -------------------------------- ------- 786.4/965.4 kB 4.7 MB/s eta 0:00:01\n",
      "   ---------------------------------------- 965.4/965.4 kB 4.8 MB/s eta 0:00:00\n",
      "Installing collected packages: farama-notifications, typing-extensions, numpy, cloudpickle, gymnasium, ale_py\n",
      "Successfully installed ale_py-0.10.2 cloudpickle-3.1.1 farama-notifications-0.0.4 gymnasium-1.1.1 numpy-2.2.4 typing-extensions-4.13.2\n"
     ]
    },
    {
     "name": "stderr",
     "output_type": "stream",
     "text": [
      "WARNING: gymnasium 1.1.1 does not provide the extra 'accept-rom-license'\n",
      "\n",
      "[notice] A new release of pip is available: 24.3.1 -> 25.0.1\n",
      "[notice] To update, run: python.exe -m pip install --upgrade pip\n"
     ]
    }
   ],
   "source": [
    "!pip install \"gymnasium[atari,accept-rom-license]\"\n"
   ]
  },
  {
   "cell_type": "code",
   "execution_count": 7,
   "id": "a1d4b154",
   "metadata": {},
   "outputs": [
    {
     "name": "stdout",
     "output_type": "stream",
     "text": [
      "Collecting torchsummary\n",
      "  Downloading torchsummary-1.5.1-py3-none-any.whl.metadata (296 bytes)\n",
      "Downloading torchsummary-1.5.1-py3-none-any.whl (2.8 kB)\n",
      "Installing collected packages: torchsummary\n",
      "Successfully installed torchsummary-1.5.1\n"
     ]
    },
    {
     "name": "stderr",
     "output_type": "stream",
     "text": [
      "\n",
      "[notice] A new release of pip is available: 24.3.1 -> 25.0.1\n",
      "[notice] To update, run: python.exe -m pip install --upgrade pip\n"
     ]
    }
   ],
   "source": [
    "!pip install torchsummary"
   ]
  },
  {
   "cell_type": "code",
   "execution_count": 8,
   "id": "678d5e5d",
   "metadata": {},
   "outputs": [
    {
     "name": "stdout",
     "output_type": "stream",
     "text": [
      "Collecting scikit-image\n",
      "  Downloading scikit_image-0.25.2-cp313-cp313-win_amd64.whl.metadata (14 kB)\n",
      "Requirement already satisfied: numpy>=1.24 in c:\\users\\sprin\\appdata\\local\\programs\\python\\python313\\lib\\site-packages (from scikit-image) (2.2.4)\n",
      "Collecting scipy>=1.11.4 (from scikit-image)\n",
      "  Downloading scipy-1.15.2-cp313-cp313-win_amd64.whl.metadata (60 kB)\n",
      "Collecting networkx>=3.0 (from scikit-image)\n",
      "  Downloading networkx-3.4.2-py3-none-any.whl.metadata (6.3 kB)\n",
      "Collecting pillow>=10.1 (from scikit-image)\n",
      "  Downloading pillow-11.2.1-cp313-cp313-win_amd64.whl.metadata (9.1 kB)\n",
      "Collecting imageio!=2.35.0,>=2.33 (from scikit-image)\n",
      "  Downloading imageio-2.37.0-py3-none-any.whl.metadata (5.2 kB)\n",
      "Collecting tifffile>=2022.8.12 (from scikit-image)\n",
      "  Downloading tifffile-2025.3.30-py3-none-any.whl.metadata (32 kB)\n",
      "Requirement already satisfied: packaging>=21 in c:\\users\\sprin\\appdata\\roaming\\python\\python313\\site-packages (from scikit-image) (24.2)\n",
      "Collecting lazy-loader>=0.4 (from scikit-image)\n",
      "  Downloading lazy_loader-0.4-py3-none-any.whl.metadata (7.6 kB)\n",
      "Downloading scikit_image-0.25.2-cp313-cp313-win_amd64.whl (12.9 MB)\n",
      "   ---------------------------------------- 0.0/12.9 MB ? eta -:--:--\n",
      "   --- ------------------------------------ 1.0/12.9 MB 6.8 MB/s eta 0:00:02\n",
      "   ------- -------------------------------- 2.4/12.9 MB 7.0 MB/s eta 0:00:02\n",
      "   ------------ --------------------------- 3.9/12.9 MB 6.7 MB/s eta 0:00:02\n",
      "   ---------------- ----------------------- 5.2/12.9 MB 6.7 MB/s eta 0:00:02\n",
      "   --------------------- ------------------ 6.8/12.9 MB 6.7 MB/s eta 0:00:01\n",
      "   ----------------------- ---------------- 7.6/12.9 MB 6.2 MB/s eta 0:00:01\n",
      "   --------------------------- ------------ 8.9/12.9 MB 6.3 MB/s eta 0:00:01\n",
      "   ------------------------------- -------- 10.2/12.9 MB 6.2 MB/s eta 0:00:01\n",
      "   ----------------------------------- ---- 11.5/12.9 MB 6.3 MB/s eta 0:00:01\n",
      "   ---------------------------------------  12.8/12.9 MB 6.3 MB/s eta 0:00:01\n",
      "   ---------------------------------------- 12.9/12.9 MB 6.2 MB/s eta 0:00:00\n",
      "Downloading imageio-2.37.0-py3-none-any.whl (315 kB)\n",
      "Downloading lazy_loader-0.4-py3-none-any.whl (12 kB)\n",
      "Downloading networkx-3.4.2-py3-none-any.whl (1.7 MB)\n",
      "   ---------------------------------------- 0.0/1.7 MB ? eta -:--:--\n",
      "   ------------------------ --------------- 1.0/1.7 MB 7.3 MB/s eta 0:00:01\n",
      "   ---------------------------------------- 1.7/1.7 MB 5.3 MB/s eta 0:00:00\n",
      "Downloading pillow-11.2.1-cp313-cp313-win_amd64.whl (2.7 MB)\n",
      "   ---------------------------------------- 0.0/2.7 MB ? eta -:--:--\n",
      "   ----------- ---------------------------- 0.8/2.7 MB 4.0 MB/s eta 0:00:01\n",
      "   --------------------------- ------------ 1.8/2.7 MB 4.7 MB/s eta 0:00:01\n",
      "   ---------------------------------------- 2.7/2.7 MB 4.7 MB/s eta 0:00:00\n",
      "Downloading scipy-1.15.2-cp313-cp313-win_amd64.whl (41.0 MB)\n",
      "   ---------------------------------------- 0.0/41.0 MB ? eta -:--:--\n",
      "   - -------------------------------------- 1.0/41.0 MB 5.7 MB/s eta 0:00:07\n",
      "   -- ------------------------------------- 2.4/41.0 MB 6.2 MB/s eta 0:00:07\n",
      "   --- ------------------------------------ 3.7/41.0 MB 6.2 MB/s eta 0:00:06\n",
      "   ---- ----------------------------------- 4.7/41.0 MB 5.7 MB/s eta 0:00:07\n",
      "   ----- ---------------------------------- 5.8/41.0 MB 5.6 MB/s eta 0:00:07\n",
      "   ------ --------------------------------- 6.8/41.0 MB 5.6 MB/s eta 0:00:07\n",
      "   ------- -------------------------------- 8.1/41.0 MB 5.6 MB/s eta 0:00:06\n",
      "   --------- ------------------------------ 9.4/41.0 MB 5.7 MB/s eta 0:00:06\n",
      "   ---------- ----------------------------- 11.0/41.0 MB 5.9 MB/s eta 0:00:06\n",
      "   ----------- ---------------------------- 12.1/41.0 MB 5.9 MB/s eta 0:00:05\n",
      "   ------------- -------------------------- 13.4/41.0 MB 5.9 MB/s eta 0:00:05\n",
      "   -------------- ------------------------- 14.4/41.0 MB 5.8 MB/s eta 0:00:05\n",
      "   --------------- ------------------------ 16.0/41.0 MB 5.9 MB/s eta 0:00:05\n",
      "   ---------------- ----------------------- 17.0/41.0 MB 5.9 MB/s eta 0:00:05\n",
      "   ----------------- ---------------------- 18.1/41.0 MB 5.8 MB/s eta 0:00:04\n",
      "   ------------------ --------------------- 18.9/41.0 MB 5.7 MB/s eta 0:00:04\n",
      "   ------------------- -------------------- 19.7/41.0 MB 5.6 MB/s eta 0:00:04\n",
      "   ------------------- -------------------- 20.2/41.0 MB 5.4 MB/s eta 0:00:04\n",
      "   -------------------- ------------------- 20.7/41.0 MB 5.3 MB/s eta 0:00:04\n",
      "   -------------------- ------------------- 21.2/41.0 MB 5.1 MB/s eta 0:00:04\n",
      "   --------------------- ------------------ 21.8/41.0 MB 5.0 MB/s eta 0:00:04\n",
      "   ---------------------- ----------------- 22.5/41.0 MB 4.9 MB/s eta 0:00:04\n",
      "   ---------------------- ----------------- 23.1/41.0 MB 4.8 MB/s eta 0:00:04\n",
      "   ----------------------- ---------------- 23.6/41.0 MB 4.7 MB/s eta 0:00:04\n",
      "   ----------------------- ---------------- 24.1/41.0 MB 4.6 MB/s eta 0:00:04\n",
      "   ------------------------ --------------- 24.9/41.0 MB 4.5 MB/s eta 0:00:04\n",
      "   ------------------------ --------------- 25.4/41.0 MB 4.5 MB/s eta 0:00:04\n",
      "   ------------------------- -------------- 25.7/41.0 MB 4.4 MB/s eta 0:00:04\n",
      "   ------------------------- -------------- 26.0/41.0 MB 4.4 MB/s eta 0:00:04\n",
      "   ------------------------- -------------- 26.5/41.0 MB 4.2 MB/s eta 0:00:04\n",
      "   -------------------------- ------------- 26.7/41.0 MB 4.1 MB/s eta 0:00:04\n",
      "   -------------------------- ------------- 27.3/41.0 MB 4.0 MB/s eta 0:00:04\n",
      "   -------------------------- ------------- 27.5/41.0 MB 4.0 MB/s eta 0:00:04\n",
      "   --------------------------- ------------ 28.0/41.0 MB 3.9 MB/s eta 0:00:04\n",
      "   --------------------------- ------------ 28.3/41.0 MB 3.9 MB/s eta 0:00:04\n",
      "   --------------------------- ------------ 28.3/41.0 MB 3.9 MB/s eta 0:00:04\n",
      "   --------------------------- ------------ 28.6/41.0 MB 3.7 MB/s eta 0:00:04\n",
      "   ---------------------------- ----------- 28.8/41.0 MB 3.6 MB/s eta 0:00:04\n",
      "   ---------------------------- ----------- 28.8/41.0 MB 3.6 MB/s eta 0:00:04\n",
      "   ---------------------------- ----------- 29.1/41.0 MB 3.5 MB/s eta 0:00:04\n",
      "   ---------------------------- ----------- 29.6/41.0 MB 3.4 MB/s eta 0:00:04\n",
      "   ----------------------------- ---------- 30.1/41.0 MB 3.4 MB/s eta 0:00:04\n",
      "   ------------------------------ --------- 30.9/41.0 MB 3.4 MB/s eta 0:00:03\n",
      "   ------------------------------ --------- 31.7/41.0 MB 3.4 MB/s eta 0:00:03\n",
      "   ------------------------------- -------- 32.5/41.0 MB 3.4 MB/s eta 0:00:03\n",
      "   -------------------------------- ------- 33.6/41.0 MB 3.5 MB/s eta 0:00:03\n",
      "   --------------------------------- ------ 34.6/41.0 MB 3.5 MB/s eta 0:00:02\n",
      "   ---------------------------------- ----- 35.7/41.0 MB 3.5 MB/s eta 0:00:02\n",
      "   ----------------------------------- ---- 36.7/41.0 MB 3.6 MB/s eta 0:00:02\n",
      "   ------------------------------------ --- 37.7/41.0 MB 3.6 MB/s eta 0:00:01\n",
      "   -------------------------------------- - 39.3/41.0 MB 3.7 MB/s eta 0:00:01\n",
      "   ---------------------------------------  40.4/41.0 MB 3.7 MB/s eta 0:00:01\n",
      "   ---------------------------------------- 41.0/41.0 MB 3.7 MB/s eta 0:00:00\n",
      "Downloading tifffile-2025.3.30-py3-none-any.whl (226 kB)\n",
      "Installing collected packages: tifffile, scipy, pillow, networkx, lazy-loader, imageio, scikit-image\n",
      "Successfully installed imageio-2.37.0 lazy-loader-0.4 networkx-3.4.2 pillow-11.2.1 scikit-image-0.25.2 scipy-1.15.2 tifffile-2025.3.30\n"
     ]
    },
    {
     "name": "stderr",
     "output_type": "stream",
     "text": [
      "\n",
      "[notice] A new release of pip is available: 24.3.1 -> 25.0.1\n",
      "[notice] To update, run: python.exe -m pip install --upgrade pip\n"
     ]
    }
   ],
   "source": [
    "!pip install scikit-image"
   ]
  },
  {
   "cell_type": "code",
   "execution_count": 11,
   "id": "0de7934b",
   "metadata": {},
   "outputs": [],
   "source": [
    "import sys\n",
    "import gymnasium as gym\n",
    "import torch\n",
    "import torch.nn as nn\n",
    "import torch.optim as optim\n",
    "from torchsummary import summary\n",
    "import numpy as np\n",
    "import random\n",
    "from collections import deque\n",
    "import matplotlib.pyplot as plt\n",
    "from skimage.transform import resize\n",
    "from skimage.color import rgb2gray"
   ]
  },
  {
   "cell_type": "code",
   "execution_count": 12,
   "id": "4f61c9b7",
   "metadata": {},
   "outputs": [
    {
     "data": {
      "text/plain": [
       "<torch._C.Generator at 0x2635ce1dcd0>"
      ]
     },
     "execution_count": 12,
     "metadata": {},
     "output_type": "execute_result"
    }
   ],
   "source": [
    "# Version checks\n",
    "assert sys.version_info >= (3,10)\n",
    "\n",
    "# to make this notebook's output stable across runs\n",
    "SEED=42\n",
    "np.random.seed(SEED)\n",
    "torch.manual_seed(SEED)"
   ]
  },
  {
   "cell_type": "code",
   "execution_count": 13,
   "id": "e6577028",
   "metadata": {},
   "outputs": [],
   "source": [
    "# Utility methods\n",
    "\n",
    "# Method that plots the current state of the environment as an image\n",
    "# Taken from Geron's ml2 RL example notebook\n",
    "def plot_environment(env, figsize=(5,4)):\n",
    "    plt.figure(figsize=figsize)\n",
    "    # returns an image of the environment as a Numpy array. \n",
    "    # 'rgb-array' mode does this instead of opening a separate window that renders the image.\n",
    "    img = env.render(mode=\"rgb_array\")\n",
    "    plt.imshow(img) # shows the image as a plot via Matplotlib's pyplot module in the cell output\n",
    "    plt.axis(\"off\") # does not display the plot axes and just the image.\n",
    "    return img\n",
    "\n",
    "# Method sets the current frame to be plotted for the corresponding frame in the animation\n",
    "# Taken from Geron's ml2 RL example notebook\n",
    "def update_scene(num, frames, patch):\n",
    "    patch.set_data(frames[num])\n",
    "    return patch,\n",
    "\n",
    "# Method that plots an animation of the environment that cycles through each frame that corresponds to each step taken\n",
    "# Taken from Geron's ml2 RL example notebook\n",
    "def plot_animation(frames, repeat=False, interval=40):\n",
    "    fig = plt.figure()\n",
    "    patch = plt.imshow(frames[0])\n",
    "    plt.axis('off')\n",
    "\n",
    "    # uses matplotlib's animation module. The FuncAnimation method repeatedly calls a specified method for the number of \n",
    "    # provided frames. The specified function that is called, 'update_scene' is defined above.\n",
    "    anim = animation.FuncAnimation(\n",
    "        fig, update_scene, fargs=(frames, patch),\n",
    "        frames=len(frames), repeat=repeat, interval=interval)\n",
    "    plt.close()\n",
    "    return anim"
   ]
  },
  {
   "cell_type": "code",
   "execution_count": 19,
   "id": "58dcd4e6",
   "metadata": {},
   "outputs": [
    {
     "name": "stdout",
     "output_type": "stream",
     "text": [
      "[]\n"
     ]
    }
   ],
   "source": [
    "from gymnasium.envs import registry\n",
    "print([env_id for env_id in registry if \"Breakout\" in env_id])\n"
   ]
  },
  {
   "cell_type": "code",
   "execution_count": 18,
   "id": "28c98812",
   "metadata": {},
   "outputs": [
    {
     "ename": "NamespaceNotFound",
     "evalue": "Namespace ALE not found. Have you installed the proper package for ALE?",
     "output_type": "error",
     "traceback": [
      "\u001b[31m---------------------------------------------------------------------------\u001b[39m",
      "\u001b[31mNamespaceNotFound\u001b[39m                         Traceback (most recent call last)",
      "\u001b[36mCell\u001b[39m\u001b[36m \u001b[39m\u001b[32mIn[18]\u001b[39m\u001b[32m, line 2\u001b[39m\n\u001b[32m      1\u001b[39m \u001b[38;5;28;01mimport\u001b[39;00m\u001b[38;5;250m \u001b[39m\u001b[34;01mgymnasium\u001b[39;00m\u001b[38;5;250m \u001b[39m\u001b[38;5;28;01mas\u001b[39;00m\u001b[38;5;250m \u001b[39m\u001b[34;01mgym\u001b[39;00m\n\u001b[32m----> \u001b[39m\u001b[32m2\u001b[39m env = \u001b[43mgym\u001b[49m\u001b[43m.\u001b[49m\u001b[43mmake\u001b[49m\u001b[43m(\u001b[49m\u001b[33;43m\"\u001b[39;49m\u001b[33;43mALE/Breakout-v5\u001b[39;49m\u001b[33;43m\"\u001b[39;49m\u001b[43m,\u001b[49m\u001b[43m \u001b[49m\u001b[43mrender_mode\u001b[49m\u001b[43m=\u001b[49m\u001b[33;43m'\u001b[39;49m\u001b[33;43mrgb_array\u001b[39;49m\u001b[33;43m'\u001b[39;49m\u001b[43m,\u001b[49m\u001b[43m \u001b[49m\u001b[43mobs_type\u001b[49m\u001b[43m=\u001b[49m\u001b[33;43m\"\u001b[39;49m\u001b[33;43mrgb\u001b[39;49m\u001b[33;43m\"\u001b[39;49m\u001b[43m)\u001b[49m\n\u001b[32m      3\u001b[39m obs, info = env.reset(seed=\u001b[32m42\u001b[39m)\n",
      "\u001b[36mFile \u001b[39m\u001b[32mc:\\Users\\sprin\\AppData\\Local\\Programs\\Python\\Python313\\Lib\\site-packages\\gymnasium\\envs\\registration.py:689\u001b[39m, in \u001b[36mmake\u001b[39m\u001b[34m(id, max_episode_steps, disable_env_checker, **kwargs)\u001b[39m\n\u001b[32m    686\u001b[39m     \u001b[38;5;28;01massert\u001b[39;00m \u001b[38;5;28misinstance\u001b[39m(\u001b[38;5;28mid\u001b[39m, \u001b[38;5;28mstr\u001b[39m)\n\u001b[32m    688\u001b[39m     \u001b[38;5;66;03m# The environment name can include an unloaded module in \"module:env_name\" style\u001b[39;00m\n\u001b[32m--> \u001b[39m\u001b[32m689\u001b[39m     env_spec = \u001b[43m_find_spec\u001b[49m\u001b[43m(\u001b[49m\u001b[38;5;28;43mid\u001b[39;49m\u001b[43m)\u001b[49m\n\u001b[32m    691\u001b[39m \u001b[38;5;28;01massert\u001b[39;00m \u001b[38;5;28misinstance\u001b[39m(env_spec, EnvSpec)\n\u001b[32m    693\u001b[39m \u001b[38;5;66;03m# Update the env spec kwargs with the `make` kwargs\u001b[39;00m\n",
      "\u001b[36mFile \u001b[39m\u001b[32mc:\\Users\\sprin\\AppData\\Local\\Programs\\Python\\Python313\\Lib\\site-packages\\gymnasium\\envs\\registration.py:533\u001b[39m, in \u001b[36m_find_spec\u001b[39m\u001b[34m(env_id)\u001b[39m\n\u001b[32m    527\u001b[39m     logger.warn(\n\u001b[32m    528\u001b[39m         \u001b[33mf\u001b[39m\u001b[33m\"\u001b[39m\u001b[33mUsing the latest versioned environment `\u001b[39m\u001b[38;5;132;01m{\u001b[39;00mnew_env_id\u001b[38;5;132;01m}\u001b[39;00m\u001b[33m` \u001b[39m\u001b[33m\"\u001b[39m\n\u001b[32m    529\u001b[39m         \u001b[33mf\u001b[39m\u001b[33m\"\u001b[39m\u001b[33minstead of the unversioned environment `\u001b[39m\u001b[38;5;132;01m{\u001b[39;00menv_name\u001b[38;5;132;01m}\u001b[39;00m\u001b[33m`.\u001b[39m\u001b[33m\"\u001b[39m\n\u001b[32m    530\u001b[39m     )\n\u001b[32m    532\u001b[39m \u001b[38;5;28;01mif\u001b[39;00m env_spec \u001b[38;5;129;01mis\u001b[39;00m \u001b[38;5;28;01mNone\u001b[39;00m:\n\u001b[32m--> \u001b[39m\u001b[32m533\u001b[39m     \u001b[43m_check_version_exists\u001b[49m\u001b[43m(\u001b[49m\u001b[43mns\u001b[49m\u001b[43m,\u001b[49m\u001b[43m \u001b[49m\u001b[43mname\u001b[49m\u001b[43m,\u001b[49m\u001b[43m \u001b[49m\u001b[43mversion\u001b[49m\u001b[43m)\u001b[49m\n\u001b[32m    534\u001b[39m     \u001b[38;5;28;01mraise\u001b[39;00m error.Error(\n\u001b[32m    535\u001b[39m         \u001b[33mf\u001b[39m\u001b[33m\"\u001b[39m\u001b[33mNo registered env with id: \u001b[39m\u001b[38;5;132;01m{\u001b[39;00menv_name\u001b[38;5;132;01m}\u001b[39;00m\u001b[33m. Did you register it, or import the package that registers it? Use `gymnasium.pprint_registry()` to see all of the registered environments.\u001b[39m\u001b[33m\"\u001b[39m\n\u001b[32m    536\u001b[39m     )\n\u001b[32m    538\u001b[39m \u001b[38;5;28;01mreturn\u001b[39;00m env_spec\n",
      "\u001b[36mFile \u001b[39m\u001b[32mc:\\Users\\sprin\\AppData\\Local\\Programs\\Python\\Python313\\Lib\\site-packages\\gymnasium\\envs\\registration.py:399\u001b[39m, in \u001b[36m_check_version_exists\u001b[39m\u001b[34m(ns, name, version)\u001b[39m\n\u001b[32m    396\u001b[39m \u001b[38;5;28;01mif\u001b[39;00m get_env_id(ns, name, version) \u001b[38;5;129;01min\u001b[39;00m registry:\n\u001b[32m    397\u001b[39m     \u001b[38;5;28;01mreturn\u001b[39;00m\n\u001b[32m--> \u001b[39m\u001b[32m399\u001b[39m \u001b[43m_check_name_exists\u001b[49m\u001b[43m(\u001b[49m\u001b[43mns\u001b[49m\u001b[43m,\u001b[49m\u001b[43m \u001b[49m\u001b[43mname\u001b[49m\u001b[43m)\u001b[49m\n\u001b[32m    400\u001b[39m \u001b[38;5;28;01mif\u001b[39;00m version \u001b[38;5;129;01mis\u001b[39;00m \u001b[38;5;28;01mNone\u001b[39;00m:\n\u001b[32m    401\u001b[39m     \u001b[38;5;28;01mreturn\u001b[39;00m\n",
      "\u001b[36mFile \u001b[39m\u001b[32mc:\\Users\\sprin\\AppData\\Local\\Programs\\Python\\Python313\\Lib\\site-packages\\gymnasium\\envs\\registration.py:362\u001b[39m, in \u001b[36m_check_name_exists\u001b[39m\u001b[34m(ns, name)\u001b[39m\n\u001b[32m    360\u001b[39m \u001b[38;5;250m\u001b[39m\u001b[33;03m\"\"\"Check if an env exists in a namespace. If it doesn't, print a helpful error message.\"\"\"\u001b[39;00m\n\u001b[32m    361\u001b[39m \u001b[38;5;66;03m# First check if the namespace exists\u001b[39;00m\n\u001b[32m--> \u001b[39m\u001b[32m362\u001b[39m \u001b[43m_check_namespace_exists\u001b[49m\u001b[43m(\u001b[49m\u001b[43mns\u001b[49m\u001b[43m)\u001b[49m\n\u001b[32m    364\u001b[39m \u001b[38;5;66;03m# Then check if the name exists\u001b[39;00m\n\u001b[32m    365\u001b[39m names: \u001b[38;5;28mset\u001b[39m[\u001b[38;5;28mstr\u001b[39m] = {\n\u001b[32m    366\u001b[39m     env_spec.name \u001b[38;5;28;01mfor\u001b[39;00m env_spec \u001b[38;5;129;01min\u001b[39;00m registry.values() \u001b[38;5;28;01mif\u001b[39;00m env_spec.namespace == ns\n\u001b[32m    367\u001b[39m }\n",
      "\u001b[36mFile \u001b[39m\u001b[32mc:\\Users\\sprin\\AppData\\Local\\Programs\\Python\\Python313\\Lib\\site-packages\\gymnasium\\envs\\registration.py:356\u001b[39m, in \u001b[36m_check_namespace_exists\u001b[39m\u001b[34m(ns)\u001b[39m\n\u001b[32m    353\u001b[39m \u001b[38;5;28;01melse\u001b[39;00m:\n\u001b[32m    354\u001b[39m     suggestion_msg = \u001b[33mf\u001b[39m\u001b[33m\"\u001b[39m\u001b[33mHave you installed the proper package for \u001b[39m\u001b[38;5;132;01m{\u001b[39;00mns\u001b[38;5;132;01m}\u001b[39;00m\u001b[33m?\u001b[39m\u001b[33m\"\u001b[39m\n\u001b[32m--> \u001b[39m\u001b[32m356\u001b[39m \u001b[38;5;28;01mraise\u001b[39;00m error.NamespaceNotFound(\u001b[33mf\u001b[39m\u001b[33m\"\u001b[39m\u001b[33mNamespace \u001b[39m\u001b[38;5;132;01m{\u001b[39;00mns\u001b[38;5;132;01m}\u001b[39;00m\u001b[33m not found. \u001b[39m\u001b[38;5;132;01m{\u001b[39;00msuggestion_msg\u001b[38;5;132;01m}\u001b[39;00m\u001b[33m\"\u001b[39m)\n",
      "\u001b[31mNamespaceNotFound\u001b[39m: Namespace ALE not found. Have you installed the proper package for ALE?"
     ]
    }
   ],
   "source": [
    "import gymnasium as gym\n",
    "env = gym.make(\"ALE/Breakout-v5\", render_mode='rgb_array', obs_type=\"rgb\")\n",
    "obs, info = env.reset(seed=42)\n"
   ]
  }
 ],
 "metadata": {
  "kernelspec": {
   "display_name": "Python 3",
   "language": "python",
   "name": "python3"
  },
  "language_info": {
   "codemirror_mode": {
    "name": "ipython",
    "version": 3
   },
   "file_extension": ".py",
   "mimetype": "text/x-python",
   "name": "python",
   "nbconvert_exporter": "python",
   "pygments_lexer": "ipython3",
   "version": "3.13.1"
  }
 },
 "nbformat": 4,
 "nbformat_minor": 5
}
